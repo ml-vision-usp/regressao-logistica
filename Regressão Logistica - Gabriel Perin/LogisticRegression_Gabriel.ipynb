{
 "cells": [
  {
   "cell_type": "markdown",
   "metadata": {},
   "source": [
    "# Regressão Logística"
   ]
  },
  {
   "cell_type": "markdown",
   "metadata": {},
   "source": [
    "## Modelo\n",
    "\n",
    "Linear: Calcula $\\sum{w_ix_i} = s$ e \"faz algo\" com o resultado.\n",
    "\n",
    "No caso do perceptron, esse \"algo\" se resumiu a olhar o sinal de $s$ e fazer a classificação de acordo. \n",
    "\n",
    "No caso da Regressão Logística, utilizaremos a função logística $\\theta(s) = \\frac{e^{s}}{1+e^{s}}$ para restringir $s$ no intervalo $(0,1)$ e, assim, obter uma interpretação probabilística para a classificação.\n",
    "\n",
    "Pontos acima da reta $\\sum{w_ix_i} = 0$ (ou seja $s>0$), terão $\\theta(s)>0.5$. Por outro lado, pontos abaixo da reta ($s<0$), terão $\\theta(s)<0.5$. Assim, podemos interpretar $\\theta(s)$ como $P(y=+1|x)$"
   ]
  },
  {
   "cell_type": "markdown",
   "metadata": {},
   "source": [
    "## Erro\n",
    "\n",
    "A função de perda a ser minimizada para encontrar um vetor de pesos $W$ adequado é a Entropia Cruzada:\n",
    "\n",
    "$\n",
    "\\begin{align}\n",
    "E_{in}(W)= \\frac{1}{N}\\sum_{n=1}^N{ln(1+e^{-y_nW^TX_n})}\n",
    "\\end{align}\n",
    "$\n",
    "\n",
    "Resumidamente, essa medida reflete o quão provável é para o nosso modelo gerar as saídas $y$ corretas, se a distribuição alvo $P(y|x)$ foi realmente capturada  pela nossa hipótese. Minimizar a Entropia Cruzada é equivalente a maximizar essa probabilidade.\n",
    "\n",
    "Observa-se que utilizar essa função de perda faz com que $\\theta(s)$ seja tratado como uma probabilidade genuína até mesmo durante o aprendizado, e não apenas uma função qualquer cuja imagem é o intervalo $(0,1)$."
   ]
  },
  {
   "cell_type": "markdown",
   "metadata": {},
   "source": [
    "## Algoritmo de Otimização: Gradiente Descendente\n",
    "\n",
    "O que é o vetor gradiente?\n",
    "\n",
    "Seja $f$ um campo escalar, ou seja, uma função $\\R^n \\to \\R$. O vetor gradiente de $f$ no ponto $x$ ($\\nabla f(x)$) é o vetor de dimensão $n$ que aponta para a direção e sentido de maior crescimento da função em $x$. Intuitivamente, o oposto do vetor gradiente dará o sentido de maior decrescimento da função.\n",
    "\n",
    "Logo, o Gradiente Descendente consiste em buscar um ponto mínimo de $f$ dando \"passos\" na direção oposta do gradiente.\n",
    "\n",
    "Para encontrar o mínimo de $E_{in}$, em cada iteração calcula-se $\\nabla E_{in}(W_t)$ e atualiza-se $W$ com a regra \n",
    "\n",
    "$\n",
    "\\begin{align}\n",
    "W_{t+1} = W_t - \\eta \\nabla E_{in}(W_t)\n",
    "\\end{align}\n",
    "$\n",
    "\n",
    "Onde $\\eta$ representa a taxa de aprendizado.\n",
    "\n",
    "Para calcular $\\nabla E_{in}(W)$, utiliza-se a seguinte expressão:\n",
    "\n",
    "$\n",
    "\\begin{align}\n",
    "\\nabla E_{in}(W)= -\\frac{1}{N} \\sum_{n=1}^N \\frac{y_nX_n}{1+e^{y_nW^TX_n}}\n",
    "\\end{align}\n",
    "$"
   ]
  },
  {
   "cell_type": "markdown",
   "metadata": {},
   "source": [
    "## Algoritmo de Regressão Logística\n",
    "\n",
    "\n",
    "<center><img src=\"a.png\"/></center>\n"
   ]
  },
  {
   "cell_type": "code",
   "execution_count": 36,
   "metadata": {},
   "outputs": [],
   "source": [
    "import numpy as np\n",
    "import pandas as pd\n",
    "from sklearn.base import BaseEstimator,ClassifierMixin\n",
    "import random\n",
    "import matplotlib.pyplot as plt\n",
    "from tqdm import tqdm"
   ]
  },
  {
   "cell_type": "markdown",
   "metadata": {},
   "source": [
    "## Implementação:"
   ]
  },
  {
   "cell_type": "code",
   "execution_count": 295,
   "metadata": {},
   "outputs": [],
   "source": [
    "class MyLR(BaseEstimator,ClassifierMixin):\n",
    "    def __init__(self, p_threshold=0.5, max_it=1000, step = 0.1, max_err=0.01, seed=None):\n",
    "        self.max_it = max_it\n",
    "        self.p_threshold = p_threshold\n",
    "        self.max_err=max_err\n",
    "        self.step = step\n",
    "        self.seed = seed\n",
    "\n",
    "    def get_err(self,X,y):\n",
    "        N= len(X)\n",
    "        err = np.sum(np.log(1+np.exp(np.sum(-y*self.w*X, axis = 1))), axis=0)/N\n",
    "        return err\n",
    "        \n",
    "    \n",
    "    def fit(self, X, y):\n",
    "        N= len(X)\n",
    "        dim = X.shape[1]\n",
    "\n",
    "        if self.seed != None:\n",
    "            np.random.seed(self.seed)\n",
    "        self.w = np.random.rand(1+dim)*10\n",
    "        \n",
    "        t=0\n",
    "        over = False\n",
    "        ones = np.ones(N)\n",
    "        Xn = np.insert(X, 0, ones, axis=1)\n",
    "        yn = np.array([y]).T\n",
    "\n",
    "        with tqdm(total=self.max_it)as pb:\n",
    "            while(not over):\n",
    "\n",
    "                gradient = np.sum(((yn*Xn)/np.array([(1+np.exp(np.sum(yn*self.w*Xn, axis=1)))]).T), axis=0)/N\n",
    "\n",
    "                v = self.step*gradient\n",
    "                self.w += v\n",
    "                t+=1\n",
    "                \n",
    "                over = (t>=self.max_it) or  self.get_err(Xn,yn) <= self.max_err\n",
    "                pb.update(1)\n",
    "        \n",
    "        print(f\"O erro final é { self.get_err(Xn,yn)}\")\n",
    "                \n",
    "        \n",
    "\n",
    "    def predict(self,X):\n",
    "        y = np.zeros(len(X))\n",
    "        N= len(X)\n",
    "        ones = np.ones(N)\n",
    "        Xn = np.insert(X, 0, ones, axis=1)\n",
    "\n",
    "        for i in range(len(X)):\n",
    "            y[i] = 1 if 1/(1+np.exp(-np.sum(self.w*Xn[i])))>=self.p_threshold else -1\n",
    "\n",
    "        return y\n",
    "    \n",
    "    def predict_proba(self,X):\n",
    "        y = np.zeros((len(X),2))\n",
    "        N= len(X)\n",
    "        ones = np.ones(N)\n",
    "        Xn = np.insert(X, 0, ones, axis=1)\n",
    "\n",
    "        for i in range(len(X)):\n",
    "            y[i,0] = 1/(1+np.exp(-np.sum(self.w*Xn[i])))\n",
    "            y[i,1] = 1- y[i,0]\n",
    "\n",
    "        return y\n",
    "\n",
    "        "
   ]
  },
  {
   "cell_type": "markdown",
   "metadata": {},
   "source": [
    "## Primeiro Teste:\n",
    "\n",
    "$x[0]=x[1]+noise$\\\n",
    "$y = +1$ se $x[0]>x[1]$ \\\n",
    "$y = -1$ cc."
   ]
  },
  {
   "cell_type": "code",
   "execution_count": 296,
   "metadata": {},
   "outputs": [
    {
     "data": {
      "text/plain": [
       "<matplotlib.collections.PathCollection at 0x7efe97a12b50>"
      ]
     },
     "execution_count": 296,
     "metadata": {},
     "output_type": "execute_result"
    },
    {
     "data": {
      "image/png": "[encoded data removed]",
      "text/plain": [
       "<Figure size 432x288 with 1 Axes>"
      ]
     },
     "metadata": {
      "needs_background": "light"
     },
     "output_type": "display_data"
    }
   ],
   "source": [
    "X_train = np.array([[i+(random.random()-0.5)*40,i] for i in range(100)])\n",
    "y_train = np.array([1 if X_train[i,0]>i else -1 for i in range(100)])\n",
    "\n",
    "blue = np.array([X_train[i,:] for i in range(100) if y_train[i]==1 ])\n",
    "red = np.array([X_train[i,:] for i in range(100) if y_train[i]==-1 ])\n",
    "\n",
    "fig,ax = plt.subplots()\n",
    "ax.scatter(blue[:,1],blue[:,0])\n",
    "ax.scatter(red[:,1], red[:,0], color=\"r\")"
   ]
  },
  {
   "cell_type": "markdown",
   "metadata": {},
   "source": [
    "### Treinando o modelo"
   ]
  },
  {
   "cell_type": "code",
   "execution_count": 297,
   "metadata": {},
   "outputs": [
    {
     "name": "stderr",
     "output_type": "stream",
     "text": [
      "  0%|          | 0/1000 [00:00<?, ?it/s]/tmp/ipykernel_10401/1477593649.py:32: RuntimeWarning: overflow encountered in exp\n",
      "  gradient = np.sum(((yn*Xn)/np.array([(1+np.exp(np.sum(yn*self.w*Xn, axis=1)))]).T), axis=0)/N\n",
      "/tmp/ipykernel_10401/1477593649.py:11: RuntimeWarning: overflow encountered in exp\n",
      "  err = np.sum(np.log(1+np.exp(np.sum(-y*self.w*X, axis = 1))), axis=0)/N\n",
      " 68%|██████▊   | 683/1000 [00:00<00:00, 18655.19it/s]"
     ]
    },
    {
     "name": "stdout",
     "output_type": "stream",
     "text": [
      "O erro final é 0.006947117970525949\n"
     ]
    },
    {
     "name": "stderr",
     "output_type": "stream",
     "text": [
      "\n"
     ]
    }
   ],
   "source": [
    "clf = MyLR()\n",
    "clf.fit(X_train,y_train)"
   ]
  },
  {
   "cell_type": "markdown",
   "metadata": {},
   "source": [
    "### Teste"
   ]
  },
  {
   "cell_type": "code",
   "execution_count": 298,
   "metadata": {},
   "outputs": [
    {
     "name": "stdout",
     "output_type": "stream",
     "text": [
      "Acurácia em conjunto de teste: 0.99\n",
      "[array([[2.28083395e-05, 9.99977192e-01],\n",
      "       [5.55465753e-04, 9.99444534e-01],\n",
      "       [1.00000000e+00, 0.00000000e+00],\n",
      "       [1.00000000e+00, 0.00000000e+00],\n",
      "       [1.98037223e-78, 1.00000000e+00],\n",
      "       [1.00000000e+00, 0.00000000e+00],\n",
      "       [1.00000000e+00, 0.00000000e+00],\n",
      "       [7.62408018e-84, 1.00000000e+00],\n",
      "       [1.00000000e+00, 0.00000000e+00],\n",
      "       [1.85080040e-77, 1.00000000e+00]])]\n"
     ]
    },
    {
     "data": {
      "image/png": "[encoded data removed]",
      "text/plain": [
       "<Figure size 432x288 with 1 Axes>"
      ]
     },
     "metadata": {
      "needs_background": "light"
     },
     "output_type": "display_data"
    }
   ],
   "source": [
    "X_test = np.array([[i+(random.random()-0.5)*40,i] for i in range(100)])\n",
    "y_test = np.array([1 if X_test[i,0]>i else -1 for i in range(100)])\n",
    "\n",
    "print(f\"Acurácia em conjunto de teste: {clf.score(X_test,y_test)}\")\n",
    "\n",
    "y_pred = clf.predict(X_test)\n",
    "t = clf.predict_proba(X_test)\n",
    "\n",
    "\n",
    "blue = np.array([X_test[i,:] for i in range(100) if y_pred[i]==1 ])\n",
    "red = np.array([X_test[i,:] for i in range(100) if y_pred[i]==-1 ])\n",
    "\n",
    "x= np.linspace(0,100,500)\n",
    "fig,ax = plt.subplots()\n",
    "ax.scatter(blue[:,1],blue[:,0])\n",
    "ax.scatter(red[:,1], red[:,0], color=\"r\")\n",
    "ax.plot(x, -(clf.w[0]+x*clf.w[2])/clf.w[1], color=\"g\")\n",
    "print([t[60:70]])\n",
    "\n"
   ]
  },
  {
   "cell_type": "markdown",
   "metadata": {},
   "source": [
    "## Segundo Teste:\n",
    "$x[0]=-x[1]+noise$\\\n",
    "$y = +1$ se $x[0]>x[1]$ \\\n",
    "$y = -1$ cc."
   ]
  },
  {
   "cell_type": "code",
   "execution_count": 306,
   "metadata": {},
   "outputs": [
    {
     "data": {
      "text/plain": [
       "<matplotlib.collections.PathCollection at 0x7efe978f6df0>"
      ]
     },
     "execution_count": 306,
     "metadata": {},
     "output_type": "execute_result"
    },
    {
     "data": {
      "image/png": "[encoded data removed]",
      "text/plain": [
       "<Figure size 432x288 with 1 Axes>"
      ]
     },
     "metadata": {
      "needs_background": "light"
     },
     "output_type": "display_data"
    }
   ],
   "source": [
    "X_train = np.array([[-i+(random.random()-0.5)*40,i] for i in range(100)])\n",
    "y_train = np.array([1 if X_train[i,0]>-i else -1 for i in range(100)])\n",
    "\n",
    "blue = np.array([X_train[i,:] for i in range(100) if y_train[i]==1 ])\n",
    "red = np.array([X_train[i,:] for i in range(100) if y_train[i]==-1 ])\n",
    "\n",
    "fig,ax = plt.subplots()\n",
    "ax.scatter(blue[:,1],blue[:,0])\n",
    "ax.scatter(red[:,1], red[:,0], color=\"r\")"
   ]
  },
  {
   "cell_type": "markdown",
   "metadata": {},
   "source": [
    "### Treinando o Modelo"
   ]
  },
  {
   "cell_type": "code",
   "execution_count": 307,
   "metadata": {},
   "outputs": [
    {
     "name": "stderr",
     "output_type": "stream",
     "text": [
      " 60%|█████▉    | 599/1000 [00:00<00:00, 17323.71it/s]"
     ]
    },
    {
     "name": "stdout",
     "output_type": "stream",
     "text": [
      "O erro final é 0.0069855685611788995\n"
     ]
    },
    {
     "name": "stderr",
     "output_type": "stream",
     "text": [
      "\n"
     ]
    }
   ],
   "source": [
    "clf = MyLR()\n",
    "clf.fit(X_train,y_train)\n"
   ]
  },
  {
   "cell_type": "markdown",
   "metadata": {},
   "source": [
    "### Teste"
   ]
  },
  {
   "cell_type": "code",
   "execution_count": 308,
   "metadata": {},
   "outputs": [
    {
     "name": "stdout",
     "output_type": "stream",
     "text": [
      "Acurácia em conjunto de teste: 0.99\n",
      "[array([[1.13769863e-75, 1.00000000e+00],\n",
      "       [1.24462233e-39, 1.00000000e+00],\n",
      "       [4.52966253e-68, 1.00000000e+00],\n",
      "       [2.45974405e-69, 1.00000000e+00],\n",
      "       [9.84588286e-58, 1.00000000e+00],\n",
      "       [1.00000000e+00, 0.00000000e+00],\n",
      "       [3.73277626e-01, 6.26722374e-01],\n",
      "       [3.10023170e-40, 1.00000000e+00],\n",
      "       [2.00635803e-16, 1.00000000e+00],\n",
      "       [1.00000000e+00, 3.54896112e-11]])]\n"
     ]
    },
    {
     "data": {
      "image/png": "[encoded data removed]",
      "text/plain": [
       "<Figure size 432x288 with 1 Axes>"
      ]
     },
     "metadata": {
      "needs_background": "light"
     },
     "output_type": "display_data"
    }
   ],
   "source": [
    "X_test = np.array([[-i+(random.random()-0.5)*40,i] for i in range(100)])\n",
    "y_test = np.array([1 if X_test[i,0]>-i else -1 for i in range(100)])\n",
    "\n",
    "print(f\"Acurácia em conjunto de teste: {clf.score(X_test,y_test)}\")\n",
    "\n",
    "y_pred = clf.predict(X_test)\n",
    "t = clf.predict_proba(X_test)\n",
    "\n",
    "\n",
    "blue = np.array([X_test[i,:] for i in range(100) if y_pred[i]==1 ])\n",
    "red = np.array([X_test[i,:] for i in range(100) if y_pred[i]==-1 ])\n",
    "\n",
    "x= np.linspace(0,100,500)\n",
    "fig,ax = plt.subplots()\n",
    "ax.scatter(blue[:,1],blue[:,0])\n",
    "ax.scatter(red[:,1], red[:,0], color=\"r\")\n",
    "ax.plot(x, -(clf.w[0]+x*clf.w[2])/clf.w[1], color=\"g\")\n",
    "print([t[60:70]])"
   ]
  },
  {
   "cell_type": "markdown",
   "metadata": {},
   "source": [
    "### Terceiro teste: \n",
    "Não separável linearmente"
   ]
  },
  {
   "cell_type": "code",
   "execution_count": 309,
   "metadata": {},
   "outputs": [
    {
     "data": {
      "text/plain": [
       "<matplotlib.collections.PathCollection at 0x7efe97118400>"
      ]
     },
     "execution_count": 309,
     "metadata": {},
     "output_type": "execute_result"
    },
    {
     "data": {
      "image/png": "[encoded data removed]",
      "text/plain": [
       "<Figure size 432x288 with 1 Axes>"
      ]
     },
     "metadata": {
      "needs_background": "light"
     },
     "output_type": "display_data"
    }
   ],
   "source": [
    "X_train = np.array([[(random.random()-0.5)*40,(random.random()-0.5)*40] for i in range(100)])\n",
    "y_train = np.array([1 if X_train[i,0]**2 + X_train[i,1]**2>200  else -1 for i in range(100)])\n",
    "\n",
    "blue = np.array([X_train[i,:] for i in range(100) if y_train[i]==1 ])\n",
    "red = np.array([X_train[i,:] for i in range(100) if y_train[i]==-1 ])\n",
    "\n",
    "fig,ax = plt.subplots()\n",
    "ax.scatter(blue[:,1],blue[:,0])\n",
    "ax.scatter(red[:,1], red[:,0], color=\"r\")"
   ]
  },
  {
   "cell_type": "markdown",
   "metadata": {},
   "source": [
    "### Treino"
   ]
  },
  {
   "cell_type": "code",
   "execution_count": 310,
   "metadata": {},
   "outputs": [
    {
     "name": "stderr",
     "output_type": "stream",
     "text": [
      "100%|██████████| 1000/1000 [00:00<00:00, 16915.38it/s]"
     ]
    },
    {
     "name": "stdout",
     "output_type": "stream",
     "text": [
      "O erro final é 1.1478053606259613\n"
     ]
    },
    {
     "name": "stderr",
     "output_type": "stream",
     "text": [
      "\n"
     ]
    }
   ],
   "source": [
    "clf = MyLR()\n",
    "clf.fit(X_train,y_train)"
   ]
  },
  {
   "cell_type": "markdown",
   "metadata": {},
   "source": [
    "### Teste"
   ]
  },
  {
   "cell_type": "code",
   "execution_count": 311,
   "metadata": {},
   "outputs": [
    {
     "name": "stdout",
     "output_type": "stream",
     "text": [
      "Acurácia em conjunto de teste: 0.34\n",
      "[array([[0.99020077, 0.00979923],\n",
      "       [0.11585194, 0.88414806],\n",
      "       [0.69841704, 0.30158296],\n",
      "       [0.79665988, 0.20334012],\n",
      "       [0.93682601, 0.06317399],\n",
      "       [0.95519382, 0.04480618],\n",
      "       [0.83391086, 0.16608914],\n",
      "       [0.32153577, 0.67846423],\n",
      "       [0.19835584, 0.80164416],\n",
      "       [0.83272157, 0.16727843]])]\n"
     ]
    },
    {
     "data": {
      "image/png": "[encoded data removed]",
      "text/plain": [
       "<Figure size 432x288 with 1 Axes>"
      ]
     },
     "metadata": {
      "needs_background": "light"
     },
     "output_type": "display_data"
    }
   ],
   "source": [
    "X_test = np.array([[(random.random()-0.5)*40,(random.random()-0.5)*40] for i in range(100)])\n",
    "y_test = np.array([1 if X_test[i,0]**2 + X_test[i,1]**2>200  else -1 for i in range(100)])\n",
    "\n",
    "print(f\"Acurácia em conjunto de teste: {clf.score(X_test,y_test)}\")\n",
    "\n",
    "y_pred = clf.predict(X_test)\n",
    "t = clf.predict_proba(X_test)\n",
    "\n",
    "\n",
    "blue = np.array([X_test[i,:] for i in range(100) if y_pred[i]==1 ])\n",
    "red = np.array([X_test[i,:] for i in range(100) if y_pred[i]==-1 ])\n",
    "\n",
    "fig,ax = plt.subplots()\n",
    "ax.scatter(blue[:,1],blue[:,0])\n",
    "ax.scatter(red[:,1], red[:,0], color=\"r\")\n",
    "print([t[60:70]])"
   ]
  },
  {
   "cell_type": "markdown",
   "metadata": {},
   "source": [
    "## Quarto Teste:\n",
    "\n",
    "Divisão em $x$ = 0"
   ]
  },
  {
   "cell_type": "code",
   "execution_count": 312,
   "metadata": {},
   "outputs": [
    {
     "data": {
      "text/plain": [
       "<matplotlib.collections.PathCollection at 0x7efe970591c0>"
      ]
     },
     "execution_count": 312,
     "metadata": {},
     "output_type": "execute_result"
    },
    {
     "data": {
      "image/png": "[encoded data removed]",
      "text/plain": [
       "<Figure size 432x288 with 1 Axes>"
      ]
     },
     "metadata": {
      "needs_background": "light"
     },
     "output_type": "display_data"
    }
   ],
   "source": [
    "X_train = np.array([[(random.random()-0.5)*40,(random.random()-0.5)*40] for i in range(100)])\n",
    "y_train = np.array([1 if X_train[i,1]>0  else -1 for i in range(100)])\n",
    "\n",
    "blue = np.array([X_train[i,:] for i in range(100) if y_train[i]==1 ])\n",
    "red = np.array([X_train[i,:] for i in range(100) if y_train[i]==-1 ])\n",
    "\n",
    "fig,ax = plt.subplots()\n",
    "ax.scatter(blue[:,1],blue[:,0])\n",
    "ax.scatter(red[:,1], red[:,0], color=\"r\")"
   ]
  },
  {
   "cell_type": "markdown",
   "metadata": {},
   "source": [
    "### Treino"
   ]
  },
  {
   "cell_type": "code",
   "execution_count": 313,
   "metadata": {},
   "outputs": [
    {
     "name": "stderr",
     "output_type": "stream",
     "text": [
      "  5%|▌         | 52/1000 [00:00<00:00, 19478.77it/s]"
     ]
    },
    {
     "name": "stdout",
     "output_type": "stream",
     "text": [
      "O erro final é 0.00980344405040676\n"
     ]
    },
    {
     "name": "stderr",
     "output_type": "stream",
     "text": [
      "\n"
     ]
    }
   ],
   "source": [
    "clf = MyLR()\n",
    "clf.fit(X_train,y_train)"
   ]
  },
  {
   "cell_type": "markdown",
   "metadata": {},
   "source": [
    "### Teste"
   ]
  },
  {
   "cell_type": "code",
   "execution_count": 314,
   "metadata": {},
   "outputs": [
    {
     "name": "stdout",
     "output_type": "stream",
     "text": [
      "Acurácia em conjunto de teste: 0.97\n",
      "[array([[2.41217902e-11, 1.00000000e+00],\n",
      "       [1.00000000e+00, 0.00000000e+00],\n",
      "       [1.58579540e-08, 9.99999984e-01],\n",
      "       [1.00000000e+00, 0.00000000e+00],\n",
      "       [1.00000000e+00, 0.00000000e+00],\n",
      "       [1.00000000e+00, 0.00000000e+00],\n",
      "       [1.00000000e+00, 0.00000000e+00],\n",
      "       [1.00000000e+00, 0.00000000e+00],\n",
      "       [9.99999993e-01, 6.79357393e-09],\n",
      "       [9.99931728e-01, 6.82716806e-05]])]\n"
     ]
    },
    {
     "data": {
      "image/png": "[encoded data removed]",
      "text/plain": [
       "<Figure size 432x288 with 1 Axes>"
      ]
     },
     "metadata": {
      "needs_background": "light"
     },
     "output_type": "display_data"
    }
   ],
   "source": [
    "X_test = np.array([[(random.random()-0.5)*40,(random.random()-0.5)*40] for i in range(100)])\n",
    "y_test = np.array([1 if X_test[i,1]>0  else -1 for i in range(100)])\n",
    "\n",
    "print(f\"Acurácia em conjunto de teste: {clf.score(X_test,y_test)}\")\n",
    "\n",
    "y_pred = clf.predict(X_test)\n",
    "t = clf.predict_proba(X_test)\n",
    "\n",
    "\n",
    "blue = np.array([X_test[i,:] for i in range(100) if y_pred[i]==1 ])\n",
    "red = np.array([X_test[i,:] for i in range(100) if y_pred[i]==-1 ])\n",
    "\n",
    "x = np.linspace(-1,1,10)\n",
    "fig,ax = plt.subplots()\n",
    "ax.scatter(blue[:,1],blue[:,0])\n",
    "ax.scatter(red[:,1], red[:,0], color=\"r\")\n",
    "#ax.plot(x, -(clf.w[0]+x*clf.w[2])/clf.w[1], color=\"g\")\n",
    "print([t[60:70]])"
   ]
  },
  {
   "cell_type": "markdown",
   "metadata": {},
   "source": [
    "## Quinto Teste:\n",
    "\n",
    "\"Mais ou menos\" linearmente separável."
   ]
  },
  {
   "cell_type": "code",
   "execution_count": 325,
   "metadata": {},
   "outputs": [
    {
     "data": {
      "text/plain": [
       "<matplotlib.collections.PathCollection at 0x7efe96ddaaf0>"
      ]
     },
     "execution_count": 325,
     "metadata": {},
     "output_type": "execute_result"
    },
    {
     "data": {
      "image/png": "[encoded data removed]",
      "text/plain": [
       "<Figure size 432x288 with 1 Axes>"
      ]
     },
     "metadata": {
      "needs_background": "light"
     },
     "output_type": "display_data"
    }
   ],
   "source": [
    "X_train = np.array([[i+(random.random()-0.5)*40,i] for i in range(100)])\n",
    "y_train = np.array([1 if X_train[i,0]>i else -1 for i in range(100)])\n",
    "y_train[20:30] *= -1\n",
    "\n",
    "blue = np.array([X_train[i,:] for i in range(100) if y_train[i]==1 ])\n",
    "red = np.array([X_train[i,:] for i in range(100) if y_train[i]==-1 ])\n",
    "\n",
    "fig,ax = plt.subplots()\n",
    "ax.scatter(blue[:,1],blue[:,0])\n",
    "ax.scatter(red[:,1], red[:,0], color=\"r\")"
   ]
  },
  {
   "cell_type": "markdown",
   "metadata": {},
   "source": [
    "### Treino"
   ]
  },
  {
   "cell_type": "code",
   "execution_count": 326,
   "metadata": {},
   "outputs": [
    {
     "name": "stderr",
     "output_type": "stream",
     "text": [
      "  0%|          | 0/1000 [00:00<?, ?it/s]/tmp/ipykernel_10401/1477593649.py:32: RuntimeWarning: overflow encountered in exp\n",
      "  gradient = np.sum(((yn*Xn)/np.array([(1+np.exp(np.sum(yn*self.w*Xn, axis=1)))]).T), axis=0)/N\n",
      "100%|██████████| 1000/1000 [00:00<00:00, 19797.43it/s]"
     ]
    },
    {
     "name": "stdout",
     "output_type": "stream",
     "text": [
      "O erro final é 10.660562377623163\n"
     ]
    },
    {
     "name": "stderr",
     "output_type": "stream",
     "text": [
      "\n"
     ]
    }
   ],
   "source": [
    "clf = MyLR(p_threshold=0.5, seed=43)\n",
    "clf.fit(X_train,y_train)"
   ]
  },
  {
   "cell_type": "markdown",
   "metadata": {},
   "source": [
    "### Teste"
   ]
  },
  {
   "cell_type": "code",
   "execution_count": 327,
   "metadata": {},
   "outputs": [
    {
     "name": "stdout",
     "output_type": "stream",
     "text": [
      "Acurácia em conjunto de teste: 0.75\n",
      "[array([[1.00000000e+00, 0.00000000e+00],\n",
      "       [1.15883874e-51, 1.00000000e+00],\n",
      "       [4.48955166e-08, 9.99999955e-01],\n",
      "       [9.59745643e-01, 4.02543572e-02],\n",
      "       [9.02289402e-19, 1.00000000e+00],\n",
      "       [8.25526004e-57, 1.00000000e+00],\n",
      "       [1.27191970e-67, 1.00000000e+00],\n",
      "       [2.05513085e-49, 1.00000000e+00],\n",
      "       [3.16508728e-13, 1.00000000e+00],\n",
      "       [1.36728007e-26, 1.00000000e+00]])]\n"
     ]
    },
    {
     "data": {
      "image/png": "[encoded data removed]",
      "text/plain": [
       "<Figure size 432x288 with 1 Axes>"
      ]
     },
     "metadata": {
      "needs_background": "light"
     },
     "output_type": "display_data"
    }
   ],
   "source": [
    "X_test = np.array([[i+(random.random()-0.5)*40,i] for i in range(100)])\n",
    "y_test = np.array([1 if X_test[i,0]>i else -1 for i in range(100)])\n",
    "y_test[20:30] *= -1\n",
    "\n",
    "print(f\"Acurácia em conjunto de teste: {clf.score(X_test,y_test)}\")\n",
    "\n",
    "y_pred = clf.predict(X_test)\n",
    "t = clf.predict_proba(X_test)\n",
    "\n",
    "\n",
    "blue = np.array([X_test[i,:] for i in range(100) if y_pred[i]==1 ])\n",
    "red = np.array([X_test[i,:] for i in range(100) if y_pred[i]==-1 ])\n",
    "\n",
    "x= np.linspace(0,100,500)\n",
    "fig,ax = plt.subplots()\n",
    "ax.scatter(blue[:,1],blue[:,0])\n",
    "ax.scatter(red[:,1], red[:,0], color=\"r\")\n",
    "ax.plot(x, x, color=\"b\")\n",
    "ax.plot(x, -(clf.w[0]+x*clf.w[2])/clf.w[1], color=\"g\")\n",
    "print([t[90:100]])"
   ]
  },
  {
   "cell_type": "code",
   "execution_count": 328,
   "metadata": {},
   "outputs": [
    {
     "name": "stderr",
     "output_type": "stream",
     "text": [
      "  0%|          | 0/1000 [00:00<?, ?it/s]/tmp/ipykernel_10401/1477593649.py:32: RuntimeWarning: overflow encountered in exp\n",
      "  gradient = np.sum(((yn*Xn)/np.array([(1+np.exp(np.sum(yn*self.w*Xn, axis=1)))]).T), axis=0)/N\n",
      "100%|██████████| 1000/1000 [00:00<00:00, 13011.61it/s]\n"
     ]
    },
    {
     "name": "stdout",
     "output_type": "stream",
     "text": [
      "O erro final é 10.660562377623163\n",
      "Precisão com p_treshold = 0.5 é 0.6984126984126984\n"
     ]
    },
    {
     "name": "stderr",
     "output_type": "stream",
     "text": [
      "  0%|          | 0/1000 [00:00<?, ?it/s]/tmp/ipykernel_10401/1477593649.py:32: RuntimeWarning: overflow encountered in exp\n",
      "  gradient = np.sum(((yn*Xn)/np.array([(1+np.exp(np.sum(yn*self.w*Xn, axis=1)))]).T), axis=0)/N\n",
      "100%|██████████| 1000/1000 [00:00<00:00, 16790.58it/s]"
     ]
    },
    {
     "name": "stdout",
     "output_type": "stream",
     "text": [
      "O erro final é 10.660562377623163\n",
      "Precisão com p_treshold baixo é 0.9444444444444444\n"
     ]
    },
    {
     "name": "stderr",
     "output_type": "stream",
     "text": [
      "\n"
     ]
    }
   ],
   "source": [
    "from sklearn.metrics import precision_score\n",
    "\n",
    "clf = MyLR(p_threshold=0.5, seed=43)\n",
    "clf.fit(X_train,y_train)\n",
    "y_pred = clf.predict(X_test)\n",
    "print(f\"Precisão com p_treshold = 0.5 é {precision_score(y_test, y_pred, pos_label=-1)}\")\n",
    "\n",
    "clf = MyLR(p_threshold=1e-30, seed=43)\n",
    "clf.fit(X_train,y_train)\n",
    "y_pred = clf.predict(X_test)\n",
    "print(f\"Precisão com p_treshold baixo é {precision_score(y_test, y_pred, pos_label=-1)}\")\n"
   ]
  }
 ],
 "metadata": {
  "kernelspec": {
   "display_name": "Python 3.9.7 ('base')",
   "language": "python",
   "name": "python3"
  },
  "language_info": {
   "codemirror_mode": {
    "name": "ipython",
    "version": 3
   },
   "file_extension": ".py",
   "mimetype": "text/x-python",
   "name": "python",
   "nbconvert_exporter": "python",
   "pygments_lexer": "ipython3",
   "version": "3.9.7"
  },
  "orig_nbformat": 4,
  "vscode": {
   "interpreter": {
    "hash": "cb22f516c9dbd103206a5f1b8c3011b228f1ef9007f783aade126d2be20f1f6e"
   }
  }
 },
 "nbformat": 4,
 "nbformat_minor": 2
}
